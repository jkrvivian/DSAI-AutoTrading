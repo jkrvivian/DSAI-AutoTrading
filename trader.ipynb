{
 "cells": [
  {
   "cell_type": "markdown",
   "metadata": {},
   "source": [
    "# HW1 auto stock trading\n",
    "\n",
    "I learned two kinds of prediction using machine learning. One is **classification**, which will divide inputs into several groups. The other one is **regression**, which will predict the exactly value of the query.\n",
    "\n",
    "After some survey on stock predictioin, the two prediction are used, but to know which one is the best and which model is the best are to be tested and analyzed.\n",
    "\n",
    "## Predict with classification\n",
    "In my experience, people usually predict stock with status instead of the precise value. Plus, the actions we can do are buy, sell and sell short. Thus deciding the action by predicting the trend of the stock we're holding is straightforward.\n",
    "\n",
    "### Using SVC (support vector classifier) \n",
    "**using SVC default kernel (rbf)**\n",
    "\n",
    "Below is my strategy:\n",
    "The prediction output will be the group number\n",
    "1. Divide the input into three groups:\n",
    "    * `1`: nextDay_open - ToDay_open > 0, if the price is rising\n",
    "    * `-1`: nextDay_open - ToDay_open < 0, if the price is going down\n",
    "    * `0`: else\n",
    "2. Train with SVC\n",
    "    * there're three different models: rbf, linear and poly\n",
    "    * parameters could be tested till I find the best one\n",
    "    * use all four prices everyday to train\n",
    "3. Test with testing data\n",
    "    * according the prediction to decide whether to buy it or not, also we should consider the unit we hold\n",
    "    * predict `1`: I'll buy, since it's rising\n",
    "    * predict `-1`: I'll sell, since it's falling\n",
    "    * `0`: hold\n",
    "    \n",
    "    \n",
    "### Library"
   ]
  },
  {
   "cell_type": "code",
   "execution_count": 1,
   "metadata": {},
   "outputs": [],
   "source": [
    "import csv                                                                                         \n",
    "from collections import OrderedDict\n",
    "from sklearn.svm import SVC \n",
    "import matplotlib.pyplot as plt "
   ]
  },
  {
   "cell_type": "markdown",
   "metadata": {},
   "source": [
    "### Load data"
   ]
  },
  {
   "cell_type": "code",
   "execution_count": 2,
   "metadata": {},
   "outputs": [],
   "source": [
    "# load data, using all four prices\n",
    "def load_data(filename):\n",
    "    ret_list = []\n",
    "    with open(filename, 'rt') as csvfile:\n",
    "        cin = csv.reader(csvfile)\n",
    "        for row in cin:\n",
    "            a = [float(row[0]), float(row[1]), float(row[2]), float(row[3])]\n",
    "            ret_list.append(list(a))\n",
    "    return ret_list\n",
    "\n",
    "# read in training data\n",
    "training_data = load_data('training_data.csv')\n",
    "\n",
    "# read in testing data\n",
    "testing_data = load_data('testing_data.csv')\n",
    "testing_last_data = testing_data.pop()"
   ]
  },
  {
   "cell_type": "markdown",
   "metadata": {},
   "source": [
    "### class Trader\n",
    "\n",
    "* init: init model, holding unit, money and action\n",
    "* train function: training model\n",
    "* predict_action: predict"
   ]
  },
  {
   "cell_type": "code",
   "execution_count": 3,
   "metadata": {},
   "outputs": [],
   "source": [
    "class Trader():\n",
    "    def __init__(self, kernel):\n",
    "        self.clf = SVC(kernel=kernel)\n",
    "        self.unit = 0\n",
    "        self.pre_act = 0\n",
    "        self.money = 0\n",
    "        \n",
    "    def train(self, training_data):\n",
    "        # init groups for every trainging data: 1, 0, -1  \n",
    "        y = []\n",
    "        for i in range(0, len(training_data) - 1):\n",
    "            ToDayOpen = training_data[i][0]\n",
    "            nextOpen = training_data[i + 1][0]\n",
    "            if (nextOpen - ToDayOpen) > 0: \n",
    "                y.append(1)\n",
    "            elif (nextOpen - ToDayOpen) < 0:\n",
    "                y.append(-1)\n",
    "            else:\n",
    "                y.append(0)\n",
    "        self.clf.fit(training_data[0:-1], y)\n",
    "        return\n",
    "    \n",
    "    def predict_action(self, test_datum):\n",
    "        act = self.clf.predict([test_datum])[0]\n",
    "        \n",
    "        # Check if the unit is valid after action\n",
    "        if (self.unit + act) > 1:\n",
    "            act = 0\n",
    "        elif (self.unit + act) < -1:\n",
    "            act = 0\n",
    "\n",
    "        # Update money\n",
    "        if self.pre_act == 1:\n",
    "            self.money -= test_datum[0]\n",
    "        elif self.pre_act == -1: \n",
    "            self.money += test_datum[0]\n",
    "\n",
    "        self.unit = self.unit + act \n",
    "        self.pre_act = act \n",
    "\n",
    "        return str(act)\n",
    "    \n",
    "    def get_profit(self, last_data):\n",
    "        # execute the last day action\n",
    "        if self.pre_act == 1:\n",
    "            self.money -= testing_last_data[0]\n",
    "        elif self.pre_act == -1:\n",
    "            self.money += testing_last_data[0]\n",
    "        \n",
    "        # clear holding unit\n",
    "        if self.pre_act + self.unit == 1:\n",
    "            self.money += testing_last_data[1]\n",
    "        elif self.unit + self.pre_act == -1:\n",
    "            self.money -= testing_last_data[1]\n",
    "        return self.money"
   ]
  },
  {
   "cell_type": "markdown",
   "metadata": {},
   "source": [
    "### Test with different SVM kernel\n",
    "\n",
    "* create"
   ]
  },
  {
   "cell_type": "code",
   "execution_count": 4,
   "metadata": {},
   "outputs": [],
   "source": [
    "svc_rbf = Trader(\"rbf\")\n",
    "svc_lin = Trader(\"linear\")"
   ]
  },
  {
   "cell_type": "markdown",
   "metadata": {},
   "source": [
    "* Train"
   ]
  },
  {
   "cell_type": "code",
   "execution_count": 5,
   "metadata": {},
   "outputs": [],
   "source": [
    "svc_rbf.train(training_data)\n",
    "svc_lin.train(training_data)"
   ]
  },
  {
   "cell_type": "code",
   "execution_count": 6,
   "metadata": {},
   "outputs": [],
   "source": [
    "# predict\n",
    "for row in testing_data:\n",
    "    svc_rbf.predict_action(row)\n",
    "    svc_lin.predict_action(row)\n"
   ]
  },
  {
   "cell_type": "markdown",
   "metadata": {},
   "source": [
    "### Result profit"
   ]
  },
  {
   "cell_type": "code",
   "execution_count": 7,
   "metadata": {},
   "outputs": [
    {
     "name": "stdout",
     "output_type": "stream",
     "text": [
      "svc rbf:  -132.93021300000004\n",
      "svc linear:  -13.47228699999971\n"
     ]
    }
   ],
   "source": [
    "print('svc rbf: ', svc_rbf.get_profit(testing_last_data))\n",
    "print('svc linear: ', svc_lin.get_profit(testing_last_data))\n"
   ]
  },
  {
   "cell_type": "markdown",
   "metadata": {},
   "source": [
    "## Utilization 1 -- observe training data\n",
    "\n",
    "We use all for different prices in a day to train our prediction model, but do we really need to consider these four prices? Or if the some of them are just disturbing the training? So I decided to observe the training data.\n",
    "\n",
    "### Trend\n",
    "From picture below, we can see that the trend of each prices is almost the same.\n",
    "Just observe with eyes, it is hardly to see open price and close price since they're all between in high and low prices."
   ]
  },
  {
   "cell_type": "code",
   "execution_count": 8,
   "metadata": {},
   "outputs": [
    {
     "data": {
      "image/png": "[encoded data removed]",
      "text/plain": [
       "<matplotlib.figure.Figure at 0x7fb81b1fa898>"
      ]
     },
     "metadata": {},
     "output_type": "display_data"
    }
   ],
   "source": [
    "openp = []\n",
    "closep = []\n",
    "highp = []\n",
    "lowp = []\n",
    "days = range(1, len(training_data))\n",
    "for i in range(0, len(training_data) - 1):\n",
    "    openp.append((training_data[i + 1][0] - training_data[i][0]) / training_data[i][0])\n",
    "    highp.append((training_data[i + 1][1] - training_data[i][1]) / training_data[i][1])\n",
    "    lowp.append((training_data[i + 1][2] - training_data[i][2]) / training_data[i][2])\n",
    "    closep.append((training_data[i + 1][3] - training_data[i][3]) / training_data[i][3])\n",
    "    \n",
    "plt.plot(days, openp, color='red', label='open')\n",
    "plt.plot(days, closep, color='blue', label='close')\n",
    "plt.plot(days, highp, color='green', label='high')\n",
    "plt.plot(days, lowp, color='orange', label='low')\n",
    "plt.xlabel('time')\n",
    "plt.ylabel('price')\n",
    "plt.legend()\n",
    "plt.show()"
   ]
  },
  {
   "cell_type": "markdown",
   "metadata": {},
   "source": [
    "For more closer look, we can calculate the correlation coefficient between each other. "
   ]
  },
  {
   "cell_type": "code",
   "execution_count": 9,
   "metadata": {},
   "outputs": [
    {
     "name": "stdout",
     "output_type": "stream",
     "text": [
      "[[1.         0.74253352 0.70781009 0.33900979]\n",
      " [0.74253352 1.         0.74841206 0.71723567]\n",
      " [0.70781009 0.74841206 1.         0.70485976]\n",
      " [0.33900979 0.71723567 0.70485976 1.        ]]\n"
     ]
    }
   ],
   "source": [
    "import numpy as np\n",
    "print(np.corrcoef([openp, highp, lowp, closep]))"
   ]
  },
  {
   "cell_type": "markdown",
   "metadata": {},
   "source": [
    "### Conclusion\n",
    "\n",
    "from the above result, `open price` is more correlated with `high price` and `low price`. Thus I decide not to use `close price`. "
   ]
  },
  {
   "cell_type": "code",
   "execution_count": 45,
   "metadata": {},
   "outputs": [],
   "source": [
    "class Trader():\n",
    "    def __init__(self, kernel):\n",
    "        self.clf = SVC(kernel=kernel)\n",
    "        self.unit = 0\n",
    "        self.pre_act = 0\n",
    "        self.money = 0\n",
    "        \n",
    "    def train(self, training_data):\n",
    "        # init groups for every trainging data: 1, 0, -1  \n",
    "        y = []\n",
    "        td = [list([training_data[0][0], training_data[0][1], training_data[0][2]])]\n",
    "        \n",
    "        for i in range(0, len(training_data) - 1):\n",
    "            ToDayOpen = training_data[i][0]\n",
    "            nextOpen = training_data[i + 1][0]\n",
    "            td.append(list([training_data[i + 1][0], training_data[i + 1][1], training_data[i + 1][2]]))\n",
    "\n",
    "            if (nextOpen - ToDayOpen) > 0: \n",
    "                y.append(1)\n",
    "            elif (nextOpen - ToDayOpen) < 0:\n",
    "                y.append(-1)\n",
    "            else:\n",
    "                y.append(0)\n",
    "\n",
    "        self.clf.fit(td[0:-1], y)\n",
    "        return\n",
    "    \n",
    "    def predict_action(self, test_datum):\n",
    "        act = self.clf.predict([test_datum])[0]\n",
    "        \n",
    "        # Check if the unit is valid after action\n",
    "        if (self.unit + act) > 1:\n",
    "            act = 0\n",
    "        elif (self.unit + act) < -1:\n",
    "            act = 0\n",
    "\n",
    "        # Update money\n",
    "        if self.pre_act == 1:\n",
    "            self.money -= test_datum[0]\n",
    "        elif self.pre_act == -1: \n",
    "            self.money += test_datum[0]\n",
    "\n",
    "        self.unit = self.unit + act \n",
    "        self.pre_act = act \n",
    "\n",
    "        return str(act)\n",
    "    \n",
    "    def get_profit(self, testing_last_data):\n",
    "        # execute the last day action\n",
    "        if self.pre_act == 1:\n",
    "            self.money -= testing_last_data[0]\n",
    "        elif self.pre_act == -1:\n",
    "            self.money += testing_last_data[0]\n",
    "        \n",
    "        # clear holding unit\n",
    "        if self.pre_act + self.unit == 1:\n",
    "            self.money += testing_last_data[1]\n",
    "        elif self.unit + self.pre_act == -1:\n",
    "            self.money -= testing_last_data[1]\n",
    "            \n",
    "        return self.money"
   ]
  },
  {
   "cell_type": "markdown",
   "metadata": {},
   "source": [
    "### Rerun"
   ]
  },
  {
   "cell_type": "code",
   "execution_count": 46,
   "metadata": {},
   "outputs": [
    {
     "name": "stdout",
     "output_type": "stream",
     "text": [
      "svc rbf:  22.767029999999522\n",
      "svc linear:  -16.577054999999802\n"
     ]
    }
   ],
   "source": [
    "# create model\n",
    "svc_rbf = Trader(\"rbf\")\n",
    "svc_lin = Trader(\"linear\")\n",
    "\n",
    "# train\n",
    "svc_rbf.train(training_data)\n",
    "svc_lin.train(training_data)\n",
    "\n",
    "# predict\n",
    "for row in testing_data:\n",
    "    svc_rbf.predict_action([row[0], row[1], row[2]])\n",
    "    svc_lin.predict_action([row[0], row[1], row[2]])\n",
    "    \n",
    "# get profit\n",
    "print('svc rbf: ', svc_rbf.get_profit(testing_last_data))\n",
    "print('svc linear: ', svc_lin.get_profit(testing_last_data))"
   ]
  },
  {
   "cell_type": "markdown",
   "metadata": {},
   "source": [
    "## Utilization 2 -- cross validation\n",
    "\n",
    "The previous experiment is simple - train with a training set then start the prediction directly.\n",
    "\n",
    "But is the training result general enough to fit the other test set? Is that possible the trainging model is overfitting?\n",
    "\n",
    "That is why we need cross validation! Divide training set to several pieces, some will be training data and the other will treat like test set. Thus we can repeatedly verify our model and try to avoid overfitting.\n",
    "\n",
    "### Library"
   ]
  },
  {
   "cell_type": "code",
   "execution_count": 48,
   "metadata": {},
   "outputs": [],
   "source": [
    "from sklearn.model_selection import cross_val_score\n",
    "from sklearn.model_selection import cross_validate\n",
    "from sklearn.metrics import recall_score"
   ]
  },
  {
   "cell_type": "code",
   "execution_count": 52,
   "metadata": {},
   "outputs": [
    {
     "name": "stdout",
     "output_type": "stream",
     "text": [
      "[0.65148515 0.60437376 0.58366534]\n",
      "[0.76039604 0.73359841 0.70318725]\n"
     ]
    }
   ],
   "source": [
    "y = []\n",
    "for i in range(0, len(training_data) - 1):\n",
    "    ToDayOpen = training_data[i][0]\n",
    "    nextOpen = training_data[i + 1][0]\n",
    "    if (nextOpen - ToDayOpen) > ToDayOpen * 0.005: \n",
    "        y.append(1)\n",
    "    elif ((nextOpen - ToDayOpen) < 0) and ((ToDayOpen - nextOpen) < ToDayOpen * 0.005):\n",
    "        y.append(-1)\n",
    "    else:\n",
    "        y.append(0)\n",
    "\n",
    "scores = cross_val_score(svc_rbf.clf, training_data[0:-1], y, cv = 3)\n",
    "print(scores)\n",
    "scores = cross_val_score(svc_lin.clf, training_data[0:-1], y, cv = 3)\n",
    "print(scores)"
   ]
  },
  {
   "cell_type": "markdown",
   "metadata": {},
   "source": [
    "## Utilization 3 -- changing investigate strategy\n",
    "\n",
    "I losed money in my first try, no matter which model I used. \n",
    "Firstly, I reconsider my action strategy.\n",
    "\n",
    "### Change classification\n",
    "I bought in a unit when the price is rising, but actually I should buy in it is falling and selling out when it starts to rise. Thus I modified the classification to:\n",
    "* `-1`: nextDay_open - ToDay_open > 0, if the price is rising => **sell**\n",
    "* `1`: nextDay_open - ToDay_open < 0, if the price is going down => **buy**\n",
    "* `0`: else"
   ]
  },
  {
   "cell_type": "code",
   "execution_count": null,
   "metadata": {},
   "outputs": [],
   "source": []
  }
 ],
 "metadata": {
  "kernelspec": {
   "display_name": "Python 3",
   "language": "python",
   "name": "python3"
  },
  "language_info": {
   "codemirror_mode": {
    "name": "ipython",
    "version": 3
   },
   "file_extension": ".py",
   "mimetype": "text/x-python",
   "name": "python",
   "nbconvert_exporter": "python",
   "pygments_lexer": "ipython3",
   "version": "3.6.4"
  }
 },
 "nbformat": 4,
 "nbformat_minor": 2
}
